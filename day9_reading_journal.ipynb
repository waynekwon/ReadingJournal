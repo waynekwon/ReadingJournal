{
 "cells": [
  {
   "cell_type": "markdown",
   "metadata": {},
   "source": [
    "# Day 9 Reading Journal\n",
    "\n",
    "This journal includes review questions relating to Think Python chapters 2, 3, 6, and 8.\n",
    "\n",
    "**Due: Monday, October 3 at 12 noon**\n"
   ]
  },
  {
   "cell_type": "markdown",
   "metadata": {},
   "source": [
    "## Indexing and Slices"
   ]
  },
  {
   "cell_type": "markdown",
   "metadata": {
    "collapsed": true
   },
   "source": [
    "Modify the following functions so that they behave as documented."
   ]
  },
  {
   "cell_type": "code",
   "execution_count": null,
   "metadata": {
    "collapsed": true
   },
   "outputs": [],
   "source": [
    "def first_letter(s):\n",
    "    \"\"\"Print the first letter of a string.\n",
    "    \n",
    "    >>> print_first_letter(\"hello\")\n",
    "    h\n",
    "    >>> print_first_letter(\"greetings\")\n",
    "    g\n",
    "    \"\"\"\n",
    "    print s[1]"
   ]
  },
  {
   "cell_type": "code",
   "execution_count": 15,
   "metadata": {
    "collapsed": true
   },
   "outputs": [],
   "source": [
    "def first_three_letters(s):\n",
    "    \"\"\"Print the first three letters of a string.\n",
    "    \n",
    "    >>> print_first_three_letters(\"bonjour\")\n",
    "    bon\n",
    "    >>> print_first_three_letters(\"ciao\")\n",
    "    cia\n",
    "    \"\"\"\n",
    "    print s[1:3]"
   ]
  },
  {
   "cell_type": "markdown",
   "metadata": {},
   "source": [
    "## Fruitful Functions\n",
    "In your fix to the following program, `triple` should still call `twice`, and should still use its result.\n",
    "\n",
    "You may need to change either or both of `twice` and `triple`."
   ]
  },
  {
   "cell_type": "code",
   "execution_count": 14,
   "metadata": {
    "collapsed": false
   },
   "outputs": [],
   "source": [
    "def double(n):\n",
    "    \"\"\"Returns twice the value of its argument.\n",
    "    \n",
    "    >>> six = double(3)\n",
    "    >>> print 'Twice 3 is', six\n",
    "    Twice 3 is 6\n",
    "    >>> print '2 x 10 =', double(10)\n",
    "    '2 x 10 =', 20\n",
    "    \"\"\"\n",
    "    print n * 2"
   ]
  },
  {
   "cell_type": "code",
   "execution_count": 4,
   "metadata": {
    "collapsed": true
   },
   "outputs": [],
   "source": [
    "def twice(n):\n",
    "    print n * 2\n",
    "\n",
    "def triple(n):\n",
    "    \"\"\"Returns thrice the value of its argument.\n",
    "    \"\"\"\n",
    "    return twice(n) + n"
   ]
  },
  {
   "cell_type": "markdown",
   "metadata": {},
   "source": [
    "# Quick poll\n",
    "About how long did you spend working on this Reading Journal?"
   ]
  },
  {
   "cell_type": "code",
   "execution_count": null,
   "metadata": {
    "collapsed": true
   },
   "outputs": [],
   "source": []
  },
  {
   "cell_type": "markdown",
   "metadata": {},
   "source": [
    " "
   ]
  }
 ],
 "metadata": {
  "anaconda-cloud": {},
  "kernelspec": {
   "display_name": "Python [py27]",
   "language": "python",
   "name": "Python [py27]"
  },
  "language_info": {
   "codemirror_mode": {
    "name": "ipython",
    "version": 2
   },
   "file_extension": ".py",
   "mimetype": "text/x-python",
   "name": "python",
   "nbconvert_exporter": "python",
   "pygments_lexer": "ipython2",
   "version": "2.7.12"
  }
 },
 "nbformat": 4,
 "nbformat_minor": 0
}
