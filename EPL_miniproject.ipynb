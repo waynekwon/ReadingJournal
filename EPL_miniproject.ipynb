{
 "cells": [
  {
   "cell_type": "code",
   "execution_count": 75,
   "metadata": {
    "collapsed": false
   },
   "outputs": [
    {
     "name": "stdout",
     "output_type": "stream",
     "text": [
      "collecting 1000 number of Tweets on the topics: Spurs%20Tottenham%20Hotspur\n"
     ]
    }
   ],
   "source": [
    "from twitterscraper import TwitterScraper\n",
    "\n",
    "topics = ['Spurs','Tottenham','Hotspur']\n",
    "\n",
    "# game against CSKA happend on 2016/09/27\n",
    "filename = 'Spurs_CSKA.txt'\n",
    "Spurs_CSKA=TwitterScraper.Scraper(topics, 1000, lang='en',begin_date='2016-09-27', \n",
    "                                end_date = '2016-09-28', filename = filename)\n",
    "\n",
    "Spurs_CSKA.scrape()"
   ]
  },
  {
   "cell_type": "code",
   "execution_count": 92,
   "metadata": {
    "collapsed": false
   },
   "outputs": [],
   "source": [
    "lst = open(filename,'r').readlines()\n",
    "\n",
    "\n",
    "\n",
    "#create new list with only words - excluding urls and other tags/punctuations\n",
    "\n",
    "new_lst=[]\n",
    "for a in lst:\n",
    "    tweet = a.split('\\t')[-1]\n",
    "    splitted = tweet.split(\"http\")\n",
    "    new_lst.append(splitted[0])\n",
    "\n",
    "import string\n",
    "\n",
    "new_lst2 = []\n",
    "for a in new_lst:\n",
    "    no_punc=a.translate(string.maketrans(\"\",\"\"), string.punctuation)\n",
    "    new_lst2.append(no_punc)\n",
    "    \n",
    "#define function to count the number of times each word appeared in the tweet\n",
    "\n",
    "def get_word(x):\n",
    "    d = {}\n",
    "    for line in x:\n",
    "        line_2 = line.split()\n",
    "        for word in line_2:\n",
    "            if word not in d:\n",
    "                d[word]=1\n",
    "            else:\n",
    "                d[word]+=1\n",
    "    return d\n",
    "\n",
    "\n",
    "wordlist=get_word(new_lst2)"
   ]
  },
  {
   "cell_type": "code",
   "execution_count": 68,
   "metadata": {
    "collapsed": false
   },
   "outputs": [],
   "source": [
    "#selecting names of only attackers from the list\n",
    "\n",
    "player_names = ['Vincent','Janssen', 'Kane', 'Harry', 'Son','Dele','Alli','Eriksen','Christian','Lamela','Sissoko' ]\n",
    "\n",
    "attacking_players = dict([k, wordlist[k]] for k in player_names)\n"
   ]
  },
  {
   "cell_type": "code",
   "execution_count": 93,
   "metadata": {
    "collapsed": true
   },
   "outputs": [],
   "source": [
    "#defining function to sort by number of count each player is mentioned\n",
    "\n",
    "def print_order(d):\n",
    "    r = []\n",
    "    for k,v in d.items():\n",
    "        r.append((v,k)) \n",
    "    r.sort(reverse=True)\n",
    "    return r\n",
    "\n",
    "#to see which player is mentioned the most\n",
    "hyped_players=print_order(attacking_players)\n"
   ]
  },
  {
   "cell_type": "code",
   "execution_count": 94,
   "metadata": {
    "collapsed": false
   },
   "outputs": [],
   "source": [
    "#MoM = Man of Match\n",
    "MoM = hyped_players[0]"
   ]
  },
  {
   "cell_type": "code",
   "execution_count": 95,
   "metadata": {
    "collapsed": false
   },
   "outputs": [
    {
     "name": "stdout",
     "output_type": "stream",
     "text": [
      "Man of the Match for game against CSKA is Son with 217 tweets mentioning the player!\n"
     ]
    }
   ],
   "source": [
    "print 'Man of the Match for game against CSKA is', MoM[1],'with', MoM[0], 'tweets mentioning the player!' "
   ]
  },
  {
   "cell_type": "code",
   "execution_count": null,
   "metadata": {
    "collapsed": true
   },
   "outputs": [],
   "source": []
  }
 ],
 "metadata": {
  "kernelspec": {
   "display_name": "Python 2",
   "language": "python",
   "name": "python2"
  },
  "language_info": {
   "codemirror_mode": {
    "name": "ipython",
    "version": 2
   },
   "file_extension": ".py",
   "mimetype": "text/x-python",
   "name": "python",
   "nbconvert_exporter": "python",
   "pygments_lexer": "ipython2",
   "version": "2.7.12"
  }
 },
 "nbformat": 4,
 "nbformat_minor": 1
}
