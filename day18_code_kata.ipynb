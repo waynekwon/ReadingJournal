{
 "cells": [
  {
   "cell_type": "markdown",
   "metadata": {},
   "source": [
    "# Day 18 Kata: Data Munging\n",
    "\n",
    "A [code katas](http://codekata.com) is a short exercise for practicing particular Python skills.\n",
    "\n",
    "This exercise is adapted from [Kata04](http://codekata.com/kata/kata04-data-munging/), by Dave Thomas.\n",
    "\n",
    "**Due: Monday, November 7 at 12 noon**"
   ]
  },
  {
   "cell_type": "markdown",
   "metadata": {},
   "source": [
    "### Part One: Weather Data\n",
    "\n",
    "In `./data/weather.dat` you’ll find daily weather data for Morristown, NJ for June 2002.\n",
    "Write a function that outputs the day number (column one) with the smallest temperature spread (the maximum temperature is the second column, the minimum the third column)."
   ]
  },
  {
   "cell_type": "code",
   "execution_count": 4,
   "metadata": {
    "collapsed": false
   },
   "outputs": [
    {
     "name": "stdout",
     "output_type": "stream",
     "text": [
      "['14', 2.0]\n"
     ]
    }
   ],
   "source": [
    "def find_day_with_smallest_spread():\n",
    "    f = open('./data/weather.dat')\n",
    "    f_df=f.readlines()\n",
    "    lines = []\n",
    "    temperature = []\n",
    "    \n",
    "    for line in f_df:\n",
    "        lines.append(line.split())\n",
    "    \n",
    "    #remove unncessary rows - headers, empty rows, etc..\n",
    "    lines.remove(lines[0])\n",
    "    lines.remove(lines[0])\n",
    "    lines.remove(lines[-1])\n",
    "    \n",
    "    for values in lines:\n",
    "        day = values[0]\n",
    "        max_temp = values[1]\n",
    "        max_temp = max_temp.strip('*')\n",
    "        min_temp = values[2]\n",
    "        min_temp = min_temp.strip('*')\n",
    "        temp_spread = float(max_temp) - float(min_temp)\n",
    "        temperature.append([day, temp_spread])\n",
    "    \n",
    "    temperature.sort(key = lambda x: x[1])\n",
    "    \n",
    "    return temperature[0]\n",
    "    \n",
    "    \n",
    "\n",
    "print find_day_with_smallest_spread()"
   ]
  },
  {
   "cell_type": "markdown",
   "metadata": {},
   "source": [
    "### Part Two: Soccer League Table\n",
    "The file `./data/football.dat` contains the results from the English Premier League for 2001/2.\n",
    "The columns labeled ‘F’ and ‘A’ contain the total number of goals scored for and against each team in that season (so Arsenal scored 79 goals against opponents, and had 36 goals scored against them).\n",
    "Write a function to print the name of the team with the smallest difference in ‘for’ and ‘against’ goals."
   ]
  },
  {
   "cell_type": "code",
   "execution_count": 7,
   "metadata": {
    "collapsed": false
   },
   "outputs": [
    {
     "name": "stdout",
     "output_type": "stream",
     "text": [
      "['Aston_Villa', 1.0]\n"
     ]
    }
   ],
   "source": [
    "def find_team_with_smallest_difference():\n",
    "    f = open('./data/football.dat')\n",
    "    f_df=f.readlines()\n",
    "    lines = []\n",
    "    goal_df = []\n",
    "    \n",
    "    for line in f_df:\n",
    "        lines.append(line.split())\n",
    "    \n",
    "    #remove unncessary rows - headers, empty rows, etc..\n",
    "    lines.remove(lines[0])\n",
    "    lines.remove(lines[17])\n",
    "  \n",
    "    for values in lines:\n",
    "        team = values[1]\n",
    "        for_goal = values[6]\n",
    "        aga_goal = values[8]\n",
    "        goal_difference = float(for_goal) - float(aga_goal)\n",
    "        goal_difference = abs(goal_difference)\n",
    "        goal_df.append([team, goal_difference])\n",
    "    \n",
    "    goal_df.sort(key = lambda x: x[1])\n",
    "    \n",
    "    return goal_df[0]\n",
    "    \n",
    "print find_team_with_smallest_difference()"
   ]
  },
  {
   "cell_type": "markdown",
   "metadata": {},
   "source": [
    "### Part Three: DRY Fusion\n",
    "“In software engineering, **d**on't **r**epeat **y**ourself (DRY) is a principle of software development, aimed at reducing repetition of information of all kinds” – [Wikipedia](https://en.wikipedia.org/wiki/Don%27t_repeat_yourself).\n",
    "\n",
    "(Compare this to [copy and paste programming](https://en.wikipedia.org/wiki/Copy_and_paste_programming).)\n",
    "\n",
    "Take the two functions written previously and [factor out](https://en.wikipedia.org/wiki/Code_refactoring) as much common code as possible, leaving you with two smaller functions that each call a third function."
   ]
  },
  {
   "cell_type": "code",
   "execution_count": 9,
   "metadata": {
    "collapsed": false
   },
   "outputs": [
    {
     "name": "stdout",
     "output_type": "stream",
     "text": [
      "['Aston_Villa', 1.0]\n",
      "['14', 2.0]\n"
     ]
    }
   ],
   "source": [
    "import string\n",
    "\n",
    "def find_smallest_difference(source, list_of_indices_to_remove, column_index_of_observation, column_index_of_first_number, column_index_of_second_number):\n",
    "    f = open(source)\n",
    "    f_df=f.readlines()\n",
    "    lines = []\n",
    "    obs_list = []\n",
    "    indices_to_remove = list_of_indices_to_remove\n",
    "    \n",
    "    for line in f_df:\n",
    "        lines.append(line.split())\n",
    "    \n",
    "    for offset, index in enumerate(indices_to_remove):\n",
    "        index -= offset\n",
    "        del lines[index]\n",
    "        \n",
    "    for values in lines:\n",
    "        obs = values[column_index_of_observation]\n",
    "        first_number = values[column_index_of_first_number]\n",
    "        first_number = first_number.strip(string.punctuation)\n",
    "        second_number = values[column_index_of_second_number]\n",
    "        second_number = second_number.strip(string.punctuation)\n",
    "        difference = abs(float(first_number) - float(second_number))\n",
    "        obs_list.append([obs, difference])\n",
    "        \n",
    "    obs_list.sort(key = lambda x: x[1])\n",
    "    \n",
    "    return obs_list[0]\n",
    "    \n",
    "\n",
    "\n",
    "print find_smallest_difference('./data/football.dat', [0, 18], 1, 6, 8)\n",
    "print find_smallest_difference('./data/weather.dat', [0, 1, -1], 0, 1,2)"
   ]
  },
  {
   "cell_type": "markdown",
   "metadata": {},
   "source": [
    "## Quick poll\n",
    "\n",
    "About how long did you spend working on this Reading Journal?"
   ]
  },
  {
   "cell_type": "markdown",
   "metadata": {},
   "source": [
    "4 hours"
   ]
  },
  {
   "cell_type": "markdown",
   "metadata": {},
   "source": [
    "## Reading Journal feedback\n",
    "\n",
    "Have any comments on this Reading Journal? Feel free to leave them below and we'll read them when you submit your journal entry. This could include suggestions to improve the exercises, topics you'd like to see covered in class next time, or other feedback.\n",
    "If you have Python questions or run into problems while completing the reading, you should post them to Piazza instead so you can get a quick response before your journal is submitted."
   ]
  },
  {
   "cell_type": "markdown",
   "metadata": {},
   "source": []
  }
 ],
 "metadata": {
  "anaconda-cloud": {},
  "kernelspec": {
   "display_name": "Python 2",
   "language": "python",
   "name": "python2"
  },
  "language_info": {
   "codemirror_mode": {
    "name": "ipython",
    "version": 2
   },
   "file_extension": ".py",
   "mimetype": "text/x-python",
   "name": "python",
   "nbconvert_exporter": "python",
   "pygments_lexer": "ipython2",
   "version": "2.7.12"
  }
 },
 "nbformat": 4,
 "nbformat_minor": 0
}
