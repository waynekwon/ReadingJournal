{
 "cells": [
  {
   "cell_type": "markdown",
   "metadata": {},
   "source": [
    "Q1. Describe the difference between an attribute and a method"
   ]
  },
  {
   "cell_type": "markdown",
   "metadata": {},
   "source": [
    "An attribute is a variable that is looked up on another object using dot syntax. The most basic issue is that an attribute lookup can find either a value stored in the object's instance dictionary. Methods are functions tored in the class"
   ]
  },
  {
   "cell_type": "markdown",
   "metadata": {},
   "source": [
    "Q2. Describe the relation between a method and a function"
   ]
  },
  {
   "cell_type": "markdown",
   "metadata": {},
   "source": [
    "Method is a function that is associted with a particular class. However, method is different in that it is defined inside a class definition in order to make the relationship between the class and the method explicit. Also, the syntax for invoking a method is different from that of a function."
   ]
  },
  {
   "cell_type": "markdown",
   "metadata": {},
   "source": [
    "Q3. Which of these is a pure function? Which is a modifier?"
   ]
  },
  {
   "cell_type": "code",
   "execution_count": null,
   "metadata": {
    "collapsed": true
   },
   "outputs": [],
   "source": [
    "class Point(object):\n",
    "    \"\"\"Represents a point in 2-D space.\"\"\"\n",
    "    \n",
    "    def __init__(self, x, y):\n",
    "        self.x = x\n",
    "        self.y = y\n",
    "        \n",
    "    def translate(self, dx, dy):\n",
    "        \"\"\"A modifier that translates the point by (dx, dy)\"\"\"\n",
    "        \n",
    "        self.x += dx\n",
    "        self.y += dy\n",
    "        \n",
    "    def translated(self, dx, dy):\n",
    "        \"\"\"A pure function that translates the point by (dx, dy)\"\"\"\n",
    "        \n",
    "        return Point(self.x + dx, self.y + dy)"
   ]
  },
  {
   "cell_type": "markdown",
   "metadata": {},
   "source": [
    "Q4. You are designing a college registration system. Which of the fllowing might plausibly inherit from each other?"
   ]
  },
  {
   "cell_type": "code",
   "execution_count": null,
   "metadata": {
    "collapsed": true
   },
   "outputs": [],
   "source": [
    "class Student(object):\n",
    "    pass\n",
    "\n",
    "class Instructor(Course):\n",
    "    pass\n",
    "\n",
    "class Course(object):\n",
    "    pass\n",
    "\n",
    "class EngineeringCourse(Course):\n",
    "    pass\n",
    "\n",
    "class SoftwareEngineeringCourse(EngineeringCourse):\n",
    "    pass\n",
    "\n",
    "class Day(object):\n",
    "    pass\n",
    "\n",
    "class Thursday(Day):\n",
    "    pass"
   ]
  },
  {
   "cell_type": "markdown",
   "metadata": {},
   "source": [
    "Q5. You are designing a graphics systems. Which of the following classes might plausibly inherit from each other?"
   ]
  },
  {
   "cell_type": "code",
   "execution_count": null,
   "metadata": {
    "collapsed": true
   },
   "outputs": [],
   "source": [
    "class Point(object):\n",
    "    pass\n",
    "\n",
    "class Rectangle(Square):\n",
    "    pass\n",
    "\n",
    "class Square(Shape):\n",
    "    pass\n",
    "\n",
    "class Ellipse(Shape):\n",
    "    pass\n",
    "\n",
    "class Shape(object):\n",
    "    pass\n",
    "\n",
    "class GeometricObject(object):\n",
    "    pass"
   ]
  },
  {
   "cell_type": "markdown",
   "metadata": {},
   "source": [
    "Quick Poll"
   ]
  },
  {
   "cell_type": "markdown",
   "metadata": {},
   "source": []
  }
 ],
 "metadata": {
  "kernelspec": {
   "display_name": "Python 2",
   "language": "python",
   "name": "python2"
  },
  "language_info": {
   "codemirror_mode": {
    "name": "ipython",
    "version": 2
   },
   "file_extension": ".py",
   "mimetype": "text/x-python",
   "name": "python",
   "nbconvert_exporter": "python",
   "pygments_lexer": "ipython2",
   "version": "2.7.12"
  }
 },
 "nbformat": 4,
 "nbformat_minor": 1
}
