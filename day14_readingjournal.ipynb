{
 "cells": [
  {
   "cell_type": "markdown",
   "metadata": {},
   "source": [
    "I had problem with pulling master from github. For the sake of limited time, I created my own workbook and write my answers in here. - Wayne Kwon"
   ]
  },
  {
   "cell_type": "markdown",
   "metadata": {},
   "source": [
    "Exercise 1"
   ]
  },
  {
   "cell_type": "code",
   "execution_count": 8,
   "metadata": {
    "collapsed": false
   },
   "outputs": [
    {
     "name": "stdout",
     "output_type": "stream",
     "text": [
      "10\n",
      "20\n"
     ]
    }
   ],
   "source": [
    "class Point(object):\n",
    "    \"\"\"Represents a point in 2-D space.\"\"\"\n",
    "\n",
    "    def __init__(self, a = 0, b = 0):\n",
    "        self.x = a\n",
    "        self.y = b\n",
    "    \n",
    "    \n",
    "\n",
    "p1 = Point(10, 20)\n",
    "\n",
    "\n",
    "print p1.x\n",
    "print p1.y\n",
    "\n",
    "\n"
   ]
  },
  {
   "cell_type": "markdown",
   "metadata": {},
   "source": [
    "Exercise 2"
   ]
  },
  {
   "cell_type": "code",
   "execution_count": 11,
   "metadata": {
    "collapsed": false
   },
   "outputs": [
    {
     "name": "stdout",
     "output_type": "stream",
     "text": [
      "(10,20)\n",
      "(1,3)\n"
     ]
    }
   ],
   "source": [
    "class Point(object):\n",
    "    \"\"\"Represents a point in 2-D space.\"\"\"\n",
    "    \n",
    "    def __init__(self, a=0, b=0):\n",
    "        self.x = a\n",
    "        self.y = b\n",
    "        \n",
    "    def __str__(self):\n",
    "        return \"({0},{1})\".format(self.x, self.y)\n",
    "    \n",
    "    \n",
    "#Don't change the line below here\n",
    "p1 = Point(10, 20)\n",
    "\n",
    "\n",
    "print p1 #should print (10, 20)\n",
    "print Point(1,3) #should print (1,3)\n",
    "\n",
    "\n"
   ]
  },
  {
   "cell_type": "markdown",
   "metadata": {},
   "source": [
    "Exercise 3"
   ]
  },
  {
   "cell_type": "code",
   "execution_count": 12,
   "metadata": {
    "collapsed": false
   },
   "outputs": [
    {
     "name": "stdout",
     "output_type": "stream",
     "text": [
      "10x20\n",
      "1x3\n"
     ]
    }
   ],
   "source": [
    "class Point(object):\n",
    "    \"\"\"Represents a point in 2-D space.\"\"\"\n",
    "    \n",
    "    def __init__(self, a=0, b=0):\n",
    "        self.x = a\n",
    "        self.y = b\n",
    "        \n",
    "    def __str__(self):\n",
    "        return \"{0}x{1}\".format(self.x, self.y)\n",
    "    \n",
    "#Don't change the line below here\n",
    "p1 = Point(10, 20)\n",
    "print p1\n",
    "print Point(1,3)"
   ]
  },
  {
   "cell_type": "markdown",
   "metadata": {},
   "source": [
    "Quik Poll"
   ]
  },
  {
   "cell_type": "markdown",
   "metadata": {},
   "source": [
    "This Reading Journal took me about 1 hour"
   ]
  }
 ],
 "metadata": {
  "kernelspec": {
   "display_name": "Python 2",
   "language": "python",
   "name": "python2"
  },
  "language_info": {
   "codemirror_mode": {
    "name": "ipython",
    "version": 2
   },
   "file_extension": ".py",
   "mimetype": "text/x-python",
   "name": "python",
   "nbconvert_exporter": "python",
   "pygments_lexer": "ipython2",
   "version": "2.7.12"
  }
 },
 "nbformat": 4,
 "nbformat_minor": 1
}
