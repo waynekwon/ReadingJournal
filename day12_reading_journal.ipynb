{
 "cells": [
  {
   "cell_type": "markdown",
   "metadata": {},
   "source": [
    "# Day 9 Reading Journal\n",
    "\n",
    "This journal includes review questions relating to Think Python Chapter 14.9 and Chapter 15.\n",
    "\n",
    "**Due: Monday, October 17 at 12 noon**\n"
   ]
  },
  {
   "cell_type": "markdown",
   "metadata": {},
   "source": [
    "## Exercise 14-5"
   ]
  },
  {
   "cell_type": "markdown",
   "metadata": {
    "collapsed": true
   },
   "source": [
    "Type this example into a file named `wc.py` and run it as a script. Then run the Python interpreter and `import wc`. What is the value of `__name__` when the module is being imported?\n",
    "\n",
    "**Note**: if you get a number bigger than 10, you are probably running the code in Jupyter inside of typing it into a separate file."
   ]
  },
  {
   "cell_type": "code",
   "execution_count": null,
   "metadata": {
    "collapsed": false
   },
   "outputs": [],
   "source": [
    "def linecount(filename):\n",
    "    count = 0\n",
    "    for line in open(filename):\n",
    "        count += 1\n",
    "    return count\n",
    "\n",
    "if __name__ == '__main__':\n",
    "    print linecount('wc.py')"
   ]
  },
  {
   "cell_type": "markdown",
   "metadata": {},
   "source": []
  },
  {
   "cell_type": "markdown",
   "metadata": {},
   "source": [
    "## Exercise 15-1.\n",
    "Write a function called distance_between_points that takes two Points as arguments and returns the distance between them."
   ]
  },
  {
   "cell_type": "code",
   "execution_count": null,
   "metadata": {
    "collapsed": false
   },
   "outputs": [],
   "source": [
    "class Point(object):\n",
    "    \"\"\"Represents a point in 2-D space.\"\"\"\n",
    "\n",
    "def distance_between_points(p1, p2):\n",
    "    pass  # replace this line by your code\n",
    "\n",
    "origin = Point()\n",
    "origin.x = 0.0\n",
    "origin.y = 0.0\n",
    "\n",
    "top_right = Point()\n",
    "top_right.x = 10.0\n",
    "top_right.y = 10.0\n",
    "\n",
    "print distance_between_points(origin, top_right)\n",
    "\n",
    "bottom_righter = Point()\n",
    "bottom_righter.x = 20.0\n",
    "bottom_righter.y = -10.0\n",
    "\n",
    "print distance_between_points(top_right, bottom_righter)\n",
    "print distance_between_points(bottom_righter, top_right)"
   ]
  },
  {
   "cell_type": "markdown",
   "metadata": {},
   "source": [
    "## Mutation and Copying\n",
    "Write a function called `slide_point_right` that takes a point and a number.\n",
    "It should modify (mutate) the existing by incrementing its `x` attribute by the number."
   ]
  },
  {
   "cell_type": "code",
   "execution_count": null,
   "metadata": {
    "collapsed": true
   },
   "outputs": [],
   "source": [
    "def slide_point_right(pt, dx):\n",
    "    pass  # replace this line by your code\n",
    "\n",
    "mypt = Point()\n",
    "mypt.x = 10.0\n",
    "mypt.y = 20.0\n",
    "\n",
    "slide_point_right(mypt, 1.0)\n",
    "print mypt.x  # should be 11.0"
   ]
  },
  {
   "cell_type": "markdown",
   "metadata": {},
   "source": [
    "Write a function called `point_slid_right_by` that takes a point and a number (the *increment*).\n",
    "It should return a *new* point:\n",
    "\n",
    "* whose `x` attribute has the value of the input point's `x`, incremented by the number.\n",
    "* whose `y` attribute has the same value as the input point's `y` attribute"
   ]
  },
  {
   "cell_type": "code",
   "execution_count": null,
   "metadata": {
    "collapsed": true
   },
   "outputs": [],
   "source": [
    "def point_slid_right_by(pt, dx):\n",
    "    pass  # replace this line by your code\n",
    "\n",
    "pt1 = Point()\n",
    "pt1.x = 10.0\n",
    "pt1.y = 20.0\n",
    "\n",
    "pt2 = point_slid_right_by(pt1, 1.0)\n",
    "print pt1.x  # should be 10.0\n",
    "print pt2.x  # should be 11.0\n",
    "print pt2.y  # should be 20.0"
   ]
  },
  {
   "cell_type": "markdown",
   "metadata": {},
   "source": [
    "## Discussion Question 1\n",
    "A `Point` is a pair of numbers. A list, and a tuple, can also be used to represent a pair of numbers.\n",
    "What are the advantage of using a Point:\n",
    "    \n",
    "    pt1 = Point()\n",
    "    pt1.x = 10.0\n",
    "    pt2.x = 20.0\n",
    "    …\n",
    "    print distance_between_points(pt1, pt2)\n",
    "\n",
    "and a list:\n",
    "\n",
    "    pt1 = [10.0, 20.0]\n",
    "    pt2 = [100.0, 200.0]\n",
    "    print distance_between_points(pt1, pt2)\n",
    "\n",
    "or tuple:\n",
    "\n",
    "    pt1 = (10.0, 20.0)\n",
    "    pt2 = (100.0, 200.0)\n",
    "    print distance_between_points(pt1, pt2)"
   ]
  },
  {
   "cell_type": "markdown",
   "metadata": {},
   "source": []
  },
  {
   "cell_type": "markdown",
   "metadata": {},
   "source": [
    "## Discussion Question 2\n",
    "Why do you think Allen named the function `distance_between_points` instead of `distance`?"
   ]
  },
  {
   "cell_type": "markdown",
   "metadata": {},
   "source": []
  },
  {
   "cell_type": "markdown",
   "metadata": {},
   "source": [
    "# Quick poll\n",
    "About how long did you spend working on this Reading Journal?"
   ]
  },
  {
   "cell_type": "code",
   "execution_count": null,
   "metadata": {
    "collapsed": true
   },
   "outputs": [],
   "source": []
  },
  {
   "cell_type": "markdown",
   "metadata": {},
   "source": [
    " "
   ]
  }
 ],
 "metadata": {
  "anaconda-cloud": {},
  "kernelspec": {
   "display_name": "Python [py27]",
   "language": "python",
   "name": "Python [py27]"
  },
  "language_info": {
   "codemirror_mode": {
    "name": "ipython",
    "version": 2
   },
   "file_extension": ".py",
   "mimetype": "text/x-python",
   "name": "python",
   "nbconvert_exporter": "python",
   "pygments_lexer": "ipython2",
   "version": "2.7.12"
  }
 },
 "nbformat": 4,
 "nbformat_minor": 0
}
